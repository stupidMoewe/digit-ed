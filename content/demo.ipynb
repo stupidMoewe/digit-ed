{
 "cells": [
  {
   "cell_type": "code",
   "execution_count": 1,
   "id": "60ddf55c-0423-4ff7-a4be-b98a02a5c472",
   "metadata": {},
   "outputs": [
    {
     "data": {
      "application/vnd.jupyter.widget-view+json": {
       "model_id": "dba20298a4a346268a8d383081cc1a38",
       "version_major": 2,
       "version_minor": 0
      },
      "text/plain": [
       "VBox(children=(Output(), IntSlider(value=10, description='nb rainy days', max=365), IntSlider(value=20, descri…"
      ]
     },
     "execution_count": 1,
     "metadata": {},
     "output_type": "execute_result"
    }
   ],
   "source": [
    "%matplotlib inline\n",
    "#import piplite\n",
    "#await piplite.install(\"ipywidgets\")\n",
    "import ipywidgets as widgets\n",
    "import util \n",
    "\n",
    "\n",
    "out1 = widgets.interactive_output(util.f1, {'nb_rainy_days': util.nb_rainy_days_slider})\n",
    "out2 = widgets.interactive_output(util.f2, {'forecast_accuracy':util.rain_forecast_accuracy_slider, 'nb_rainy_days': util.nb_rainy_days_slider})\n",
    "widgets.VBox([ out1, util.nb_rainy_days_slider, util.rain_forecast_accuracy_slider, out2])"
   ]
  },
  {
   "cell_type": "code",
   "execution_count": null,
   "id": "d96c6f9e",
   "metadata": {},
   "outputs": [],
   "source": []
  }
 ],
 "metadata": {
  "kernelspec": {
   "display_name": "Python 3.10.6 64-bit",
   "language": "python",
   "name": "python3"
  },
  "language_info": {
   "codemirror_mode": {
    "name": "ipython",
    "version": 3
   },
   "file_extension": ".py",
   "mimetype": "text/x-python",
   "name": "python",
   "nbconvert_exporter": "python",
   "pygments_lexer": "ipython3",
   "version": "3.10.6"
  },
  "vscode": {
   "interpreter": {
    "hash": "916dbcbb3f70747c44a77c7bcd40155683ae19c65e1c03b4aa3499c5328201f1"
   }
  }
 },
 "nbformat": 4,
 "nbformat_minor": 5
}
