{
 "cells": [
  {
   "cell_type": "code",
   "execution_count": 1,
   "id": "60ddf55c-0423-4ff7-a4be-b98a02a5c472",
   "metadata": {},
   "outputs": [
    {
     "data": {
      "application/vnd.jupyter.widget-view+json": {
       "model_id": "dba20298a4a346268a8d383081cc1a38",
       "version_major": 2,
       "version_minor": 0
      },
      "text/plain": [
       "VBox(children=(Output(), IntSlider(value=10, description='nb rainy days', max=365), IntSlider(value=20, descri…"
      ]
     },
     "execution_count": 1,
     "metadata": {},
     "output_type": "execute_result"
    }
   ],
   "source": [
    "%matplotlib inline\n",
    "import piplite\n",
    "await piplite.install(\"ipywidgets\")\n",
    "import ipywidgets as widgets\n",
    "import util \n",
    "\n",
    "\n",
    "out1 = widgets.interactive_output(util.f1, {'nb_rainy_days': util.nb_rainy_days_slider})\n",
    "out2 = widgets.interactive_output(util.f2, {'forecast_accuracy':util.rain_forecast_accuracy_slider, 'nb_rainy_days': util.nb_rainy_days_slider})\n",
    "widgets.VBox([ out1, util.nb_rainy_days_slider, util.rain_forecast_accuracy_slider, out2])"
   ]
  }
 ],
 "metadata": {
  "kernelspec": {
   "display_name": "Python 3",
   "language": "python",
   "name": "python3"
  },
  "language_info": {
   "codemirror_mode": {
    "name": "ipython",
    "version": 3
   },
   "file_extension": ".py",
   "mimetype": "text/x-python",
   "name": "python",
   "nbconvert_exporter": "python",
   "pygments_lexer": "ipython3",
   "version": "3.10.8 (main, Oct 13 2022, 09:48:40) [Clang 14.0.0 (clang-1400.0.29.102)]"
  },
  "vscode": {
   "interpreter": {
    "hash": "b0fa6594d8f4cbf19f97940f81e996739fb7646882a419484c72d19e05852a7e"
   }
  }
 },
 "nbformat": 4,
 "nbformat_minor": 5
}
