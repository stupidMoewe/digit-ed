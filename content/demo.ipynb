{
 "cells": [
  {
   "cell_type": "code",
   "execution_count": 7,
   "id": "60ddf55c-0423-4ff7-a4be-b98a02a5c472",
   "metadata": {},
   "outputs": [],
   "source": [
    "%matplotlib inline"
   ]
  },
  {
   "cell_type": "code",
   "execution_count": 8,
   "id": "7bfc0db9-4ef0-407e-9d8d-12d4f18129e6",
   "metadata": {},
   "outputs": [
    {
     "data": {
      "application/vnd.jupyter.widget-view+json": {
       "model_id": "702fac6b3c094add844432fb68981646",
       "version_major": 2,
       "version_minor": 0
      },
      "text/plain": [
       "VBox(children=(Output(), IntSlider(value=208, description='nb rainy days', max=365), IntSlider(value=64, descr…"
      ]
     },
     "execution_count": 8,
     "metadata": {},
     "output_type": "execute_result"
    }
   ],
   "source": [
    "import ipywidgets as widgets\n",
    "import util \n",
    "\n",
    "\n",
    "out1 = widgets.interactive_output(util.f1, {'nb_rainy_days': util.nb_rainy_days_slider})\n",
    "out2 = widgets.interactive_output(util.f2, {'forecast_accuracy':util.rain_forecast_accuracy_slider, 'nb_rainy_days': util.nb_rainy_days_slider})\n",
    "widgets.VBox([ out1, util.nb_rainy_days_slider, util.rain_forecast_accuracy_slider, out2])\n"
   ]
  },
  {
   "cell_type": "code",
   "execution_count": null,
   "id": "3012ce02-84a8-4335-b60c-dcdac69b20f3",
   "metadata": {},
   "outputs": [],
   "source": []
  }
 ],
 "metadata": {
  "kernelspec": {
   "display_name": "Python 3.10.6 64-bit",
   "language": "python",
   "name": "python3"
  },
  "language_info": {
   "codemirror_mode": {
    "name": "ipython",
    "version": 3
   },
   "file_extension": ".py",
   "mimetype": "text/x-python",
   "name": "python",
   "nbconvert_exporter": "python",
   "pygments_lexer": "ipython3",
   "version": "3.10.6"
  },
  "vscode": {
   "interpreter": {
    "hash": "916dbcbb3f70747c44a77c7bcd40155683ae19c65e1c03b4aa3499c5328201f1"
   }
  }
 },
 "nbformat": 4,
 "nbformat_minor": 5
}
