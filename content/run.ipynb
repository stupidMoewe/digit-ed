{
 "cells": [
  {
   "cell_type": "code",
   "execution_count": 1,
   "metadata": {},
   "outputs": [],
   "source": [
    "import piplite\n",
    "await piplite.install(\"ipywidgets\")\n",
    "\n",
    "import ipywidgets as widgets\n",
    "import matplotlib\n",
    "import matplotlib.pyplot as plt\n",
    "%matplotlib inline\n",
    "\n",
    "SCALE = 19\n",
    "FIG_SIZE = 5\n",
    "nb_rainy_days = 20\n",
    "p_rain = nb_rainy_days/365\n",
    "p_not_rain = 1 - p_rain\n"
   ]
  },
  {
   "cell_type": "code",
   "execution_count": 2,
   "metadata": {},
   "outputs": [
    {
     "data": {
      "application/vnd.jupyter.widget-view+json": {
       "model_id": "425c58af225c48a1a3ee7ff646795645",
       "version_major": 2,
       "version_minor": 0
      },
      "text/plain": [
       "interactive(children=(IntSlider(value=4, description='nb rainy days', max=365), Output()), _dom_classes=('widg…"
      ]
     },
     "metadata": {},
     "output_type": "display_data"
    }
   ],
   "source": [
    "@widgets.interact(nb_rainy_days=widgets.IntSlider(min=0, max=365, step=1, value=4, description='nb rainy days'))\n",
    "def f(nb_rainy_days):\n",
    "    p_rain = nb_rainy_days/365\n",
    "    p_not_rain = 1 - p_rain\n",
    "\n",
    "    rainy_days = matplotlib.patches.Rectangle((0, 0),p_rain*SCALE, SCALE, color ='cornflowerblue', alpha = 0.3)\n",
    "    sunny_days = matplotlib.patches.Rectangle((p_rain*SCALE, 0), p_not_rain*SCALE, SCALE, color = 'orange', alpha = 0.3)\n",
    "\n",
    "    fig = plt.figure(figsize=(FIG_SIZE,FIG_SIZE))\n",
    "    ax = fig.add_subplot()\n",
    "    ax.add_patch(rainy_days)\n",
    "    ax.add_patch(sunny_days)\n",
    "    ax.set_xticks([])\n",
    "    ax.set_yticks([])\n",
    "    ax.set_xlabel(\"P(rain)                                                                  P(sun)\")\n",
    "\n",
    "    plt.xlim([0, SCALE])\n",
    "    plt.ylim([0, SCALE])\n",
    "    plt.legend([\"rainy days \", \"sunny days\"], loc=(1.05, 0.5))\n",
    "    plt.show()\n",
    "\n"
   ]
  },
  {
   "cell_type": "code",
   "execution_count": 6,
   "metadata": {},
   "outputs": [
    {
     "data": {
      "application/vnd.jupyter.widget-view+json": {
       "model_id": "a0f0144c55494c46a8803f57ca2347d0",
       "version_major": 2,
       "version_minor": 0
      },
      "text/plain": [
       "HBox(children=(VBox(children=(IntSlider(value=20, description='forecast accuracy', orientation='vertical', ste…"
      ]
     },
     "execution_count": 6,
     "metadata": {},
     "output_type": "execute_result"
    }
   ],
   "source": [
    "#style = {'description_width': 'initial'}\n",
    "rain_forecast_accuracy_slider = widgets.IntSlider(min=0, max=100, step=10, value=20, description='forecast accuracy', orientation='vertical')\n",
    "def f2(forecast_accuracy):\n",
    "    p_correct = forecast_accuracy/100\n",
    "\n",
    "    p_forecast_knowing_rain = p_correct\n",
    "    p_forecast_knowing_not_rain = 1 - p_correct\n",
    "    \n",
    "    correct_forecast = matplotlib.patches.Rectangle((0, 0),p_rain*SCALE, p_forecast_knowing_rain*SCALE, color ='cornflowerblue', )\n",
    "    wrong_forecast = matplotlib.patches.Rectangle((p_rain*SCALE, 0), p_not_rain*SCALE, p_forecast_knowing_not_rain*SCALE, color = 'orange')\n",
    "    p_forecast = p_forecast_knowing_not_rain*p_not_rain + p_forecast_knowing_rain*p_rain\n",
    "    p_rain_knowing_forecast = p_forecast_knowing_rain*p_rain/p_forecast\n",
    "    rainy_days = matplotlib.patches.Rectangle((0, 0), p_rain*SCALE, SCALE, color ='cornflowerblue', alpha = 0.3)\n",
    "    sunny_days = matplotlib.patches.Rectangle((p_rain*SCALE, 0), p_not_rain*SCALE, SCALE, color ='orange', alpha = 0.3)\n",
    "\n",
    "    fig = plt.figure(figsize=(FIG_SIZE,FIG_SIZE))\n",
    "    ax = fig.add_subplot()\n",
    "    ax.add_patch(rainy_days)\n",
    "    ax.add_patch(correct_forecast)\n",
    "    ax.add_patch(sunny_days)\n",
    "    ax.add_patch(wrong_forecast)\n",
    "\n",
    "    plt.xlim([0, SCALE])\n",
    "    plt.ylim([0, SCALE])\n",
    "    ax.set_xticks([])\n",
    "    ax.set_yticks([])\n",
    "    ax.set_xlabel(\"P(rain)                                                                   P(sun)\")\n",
    "    plt.title(\"P(rain | rain forecasted) = %.2f\" % p_rain_knowing_forecast)\n",
    "    plt.legend([\"rain \", \"rain forecasted\", \"sunny day\", \"rain forecasted :/\"], loc=(1.05, 0.5))\n",
    "    plt.show()\n",
    "\n",
    "\n",
    "\n",
    "out = widgets.interactive_output(f2, {'forecast_accuracy':rain_forecast_accuracy_slider})\n",
    "widgets.HBox([widgets.VBox([rain_forecast_accuracy_slider]), out])\n",
    "\n",
    "\n"
   ]
  }
 ],
 "metadata": {
  "kernelspec": {
   "display_name": "Python 3.10.6 64-bit",
   "language": "python",
   "name": "python3"
  },
  "language_info": {
   "codemirror_mode": {
    "name": "ipython",
    "version": 3
   },
   "file_extension": ".py",
   "mimetype": "text/x-python",
   "name": "python",
   "nbconvert_exporter": "python",
   "pygments_lexer": "ipython3",
   "version": "3.10.6"
  },
  "orig_nbformat": 4,
  "vscode": {
   "interpreter": {
    "hash": "916dbcbb3f70747c44a77c7bcd40155683ae19c65e1c03b4aa3499c5328201f1"
   }
  }
 },
 "nbformat": 4,
 "nbformat_minor": 2
}
