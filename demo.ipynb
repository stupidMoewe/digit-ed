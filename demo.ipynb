{
 "cells": [
  {
   "cell_type": "code",
   "execution_count": null,
   "metadata": {},
   "outputs": [],
   "source": [
    "import ipywidgets as widgets\n",
    "import matplotlib\n",
    "import matplotlib.pyplot as plt\n",
    "%matplotlib inline\n",
    "import util\n",
    "\n",
    "out1 = widgets.interactive_output(util.f1, {'nb_rainy_days': util.nb_rainy_days_slider})\n",
    "out2 = widgets.interactive_output(util.f2, {'forecast_accuracy':util.rain_forecast_accuracy_slider, 'nb_rainy_days': util.nb_rainy_days_slider})\n",
    "widgets.VBox([ out1, util.nb_rainy_days_slider, util.rain_forecast_accuracy_slider, out2])"
   ]
  }
 ],
 "metadata": {
  "language_info": {
   "name": "python"
  },
  "orig_nbformat": 4
 },
 "nbformat": 4,
 "nbformat_minor": 2
}
